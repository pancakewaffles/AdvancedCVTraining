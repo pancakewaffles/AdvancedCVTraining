{
  "nbformat": 4,
  "nbformat_minor": 0,
  "metadata": {
    "colab": {
      "name": "module3_2_CNN_cats_dogs_small_dataset.ipynb",
      "version": "0.3.2",
      "provenance": []
    },
    "kernelspec": {
      "name": "python3",
      "display_name": "Python 3"
    },
    "accelerator": "GPU"
  },
  "cells": [
    {
      "metadata": {
        "id": "6VAQ_F79BO4H",
        "colab_type": "text"
      },
      "cell_type": "markdown",
      "source": [
        "## Step 1 Data Processing"
      ]
    },
    {
      "metadata": {
        "id": "F0OYIWhR-iZY",
        "colab_type": "code",
        "colab": {
          "base_uri": "https://localhost:8080/",
          "height": 34
        },
        "outputId": "0c2dbd50-d769-415a-d7d1-30867f5a1ebc"
      },
      "cell_type": "code",
      "source": [
        "from google.colab import drive\n",
        "drive.mount('/content/gdrive')"
      ],
      "execution_count": 24,
      "outputs": [
        {
          "output_type": "stream",
          "text": [
            "Drive already mounted at /content/gdrive; to attempt to forcibly remount, call drive.mount(\"/content/gdrive\", force_remount=True).\n"
          ],
          "name": "stdout"
        }
      ]
    },
    {
      "metadata": {
        "id": "C0hv9jn0-rDP",
        "colab_type": "code",
        "colab": {
          "base_uri": "https://localhost:8080/",
          "height": 34
        },
        "outputId": "2e217302-475c-439a-e168-baf56edcfc78"
      },
      "cell_type": "code",
      "source": [
        "ls '/content/gdrive/My Drive/data/cats-dogs/'"
      ],
      "execution_count": 26,
      "outputs": [
        {
          "output_type": "stream",
          "text": [
            "\u001b[0m\u001b[01;34mtest\u001b[0m/  \u001b[01;34mtrain\u001b[0m/  \u001b[01;34mvalidation\u001b[0m/\n"
          ],
          "name": "stdout"
        }
      ]
    },
    {
      "metadata": {
        "id": "r8ex2IbV-8fm",
        "colab_type": "code",
        "colab": {}
      },
      "cell_type": "code",
      "source": [
        "from keras.models import Sequential\n",
        "from keras.layers import Conv2D, MaxPooling2D, Dense, Flatten\n",
        "from keras.preprocessing.image import ImageDataGenerator"
      ],
      "execution_count": 0,
      "outputs": []
    },
    {
      "metadata": {
        "id": "9ci7mnYmAEvR",
        "colab_type": "code",
        "colab": {}
      },
      "cell_type": "code",
      "source": [
        "train_dir = '/content/gdrive/My Drive/data/cats-dogs/train/'\n",
        "test_dir = '/content/gdrive/My Drive/data/cats-dogs/test/'\n",
        "validation_dir = '/content/gdrive/My Drive/data/cats-dogs/validation/'"
      ],
      "execution_count": 0,
      "outputs": []
    },
    {
      "metadata": {
        "id": "HcLMyYpIBSV4",
        "colab_type": "text"
      },
      "cell_type": "markdown",
      "source": [
        "## Step 2 Model"
      ]
    },
    {
      "metadata": {
        "id": "9BYyJnbxAl6C",
        "colab_type": "code",
        "colab": {}
      },
      "cell_type": "code",
      "source": [
        "model = Sequential()\n",
        "model.add(Conv2D(32, (3, 3), activation='relu',\n",
        "                        input_shape=(150, 150, 3)))\n",
        "model.add(MaxPooling2D((2, 2)))\n",
        "model.add(Conv2D(64, (3, 3), activation='relu'))\n",
        "model.add(MaxPooling2D((2, 2)))\n",
        "model.add(Conv2D(128, (3, 3), activation='relu'))\n",
        "model.add(MaxPooling2D((2, 2)))\n",
        "model.add(Conv2D(128, (3, 3), activation='relu'))\n",
        "model.add(MaxPooling2D((2, 2)))\n",
        "model.add(Flatten())\n",
        "model.add(Dense(512, activation='relu'))\n",
        "model.add(Dense(1, activation='sigmoid'))"
      ],
      "execution_count": 0,
      "outputs": []
    },
    {
      "metadata": {
        "id": "6eO44_NGBYi2",
        "colab_type": "code",
        "colab": {}
      },
      "cell_type": "code",
      "source": [
        "model.summary()"
      ],
      "execution_count": 0,
      "outputs": []
    },
    {
      "metadata": {
        "id": "hFVBP2tiHySM",
        "colab_type": "text"
      },
      "cell_type": "markdown",
      "source": [
        "## Step 3 Compile the Model"
      ]
    },
    {
      "metadata": {
        "id": "-FY5tnvTEnmY",
        "colab_type": "code",
        "colab": {}
      },
      "cell_type": "code",
      "source": [
        "from keras import optimizers\n",
        "\n",
        "model.compile(loss='binary_crossentropy',\n",
        "              optimizer=optimizers.RMSprop(lr=1e-4),\n",
        "              metrics=['acc'])"
      ],
      "execution_count": 0,
      "outputs": []
    },
    {
      "metadata": {
        "id": "VNzaZe4xIBYe",
        "colab_type": "text"
      },
      "cell_type": "markdown",
      "source": [
        "## Step 4 Train the Model"
      ]
    },
    {
      "metadata": {
        "id": "LUQwEgVSH-nz",
        "colab_type": "code",
        "colab": {}
      },
      "cell_type": "code",
      "source": [
        "train_datagen = ImageDataGenerator(rescale=1./255)\n",
        "test_datagen = ImageDataGenerator(rescale=1./255)"
      ],
      "execution_count": 0,
      "outputs": []
    },
    {
      "metadata": {
        "id": "O-FXCfAKID22",
        "colab_type": "code",
        "colab": {
          "base_uri": "https://localhost:8080/",
          "height": 34
        },
        "outputId": "30ba1508-6970-49d1-c642-45db1064bccb"
      },
      "cell_type": "code",
      "source": [
        "train_generator = train_datagen.flow_from_directory(train_dir,\n",
        "                                     target_size=(150,150),\n",
        "                                     batch_size=20,\n",
        "                                     class_mode='binary')"
      ],
      "execution_count": 32,
      "outputs": [
        {
          "output_type": "stream",
          "text": [
            "Found 1000 images belonging to 2 classes.\n"
          ],
          "name": "stdout"
        }
      ]
    },
    {
      "metadata": {
        "id": "6HnvJxEyJVhn",
        "colab_type": "code",
        "colab": {
          "base_uri": "https://localhost:8080/",
          "height": 34
        },
        "outputId": "23ec6dff-9d4c-42c3-be31-5ba6ea5795da"
      },
      "cell_type": "code",
      "source": [
        "validation_generator = test_datagen.flow_from_directory(validation_dir,\n",
        "                                     target_size=(150,150),\n",
        "                                     batch_size=12,\n",
        "                                     class_mode='binary')"
      ],
      "execution_count": 33,
      "outputs": [
        {
          "output_type": "stream",
          "text": [
            "Found 1000 images belonging to 2 classes.\n"
          ],
          "name": "stdout"
        }
      ]
    },
    {
      "metadata": {
        "id": "XXJcjYVbKLJP",
        "colab_type": "code",
        "colab": {
          "base_uri": "https://localhost:8080/",
          "height": 357
        },
        "outputId": "cfe378e2-a73f-434f-aa42-2d620a08df3f"
      },
      "cell_type": "code",
      "source": [
        "history = model.fit_generator(\n",
        "      train_generator,\n",
        "      steps_per_epoch=100,\n",
        "      epochs=10,\n",
        "      validation_data=validation_generator,\n",
        "      validation_steps=50)"
      ],
      "execution_count": 34,
      "outputs": [
        {
          "output_type": "stream",
          "text": [
            "Epoch 1/10\n",
            "100/100 [==============================] - 16s 156ms/step - loss: 0.6863 - acc: 0.5520 - val_loss: 0.6709 - val_acc: 0.6017\n",
            "Epoch 2/10\n",
            "100/100 [==============================] - 14s 137ms/step - loss: 0.6256 - acc: 0.6625 - val_loss: 0.6159 - val_acc: 0.6453\n",
            "Epoch 3/10\n",
            "100/100 [==============================] - 14s 139ms/step - loss: 0.5589 - acc: 0.7105 - val_loss: 0.5828 - val_acc: 0.6950\n",
            "Epoch 4/10\n",
            "100/100 [==============================] - 14s 138ms/step - loss: 0.5112 - acc: 0.7480 - val_loss: 0.7074 - val_acc: 0.6014\n",
            "Epoch 5/10\n",
            "100/100 [==============================] - 14s 138ms/step - loss: 0.4662 - acc: 0.7780 - val_loss: 0.5602 - val_acc: 0.7083\n",
            "Epoch 6/10\n",
            "100/100 [==============================] - 14s 137ms/step - loss: 0.4177 - acc: 0.8100 - val_loss: 0.6022 - val_acc: 0.6875\n",
            "Epoch 7/10\n",
            "100/100 [==============================] - 14s 137ms/step - loss: 0.3772 - acc: 0.8260 - val_loss: 0.5443 - val_acc: 0.7348\n",
            "Epoch 8/10\n",
            "100/100 [==============================] - 14s 137ms/step - loss: 0.3310 - acc: 0.8665 - val_loss: 0.6031 - val_acc: 0.6967\n",
            "Epoch 9/10\n",
            "100/100 [==============================] - 14s 136ms/step - loss: 0.2854 - acc: 0.8880 - val_loss: 0.6784 - val_acc: 0.6943\n",
            "Epoch 10/10\n",
            "100/100 [==============================] - 14s 139ms/step - loss: 0.2503 - acc: 0.9085 - val_loss: 0.7122 - val_acc: 0.7017\n"
          ],
          "name": "stdout"
        }
      ]
    },
    {
      "metadata": {
        "id": "9GoWNnWeLIge",
        "colab_type": "code",
        "colab": {}
      },
      "cell_type": "code",
      "source": [
        "import matplotlib.pyplot as plt"
      ],
      "execution_count": 0,
      "outputs": []
    },
    {
      "metadata": {
        "id": "yZrUdOeRYS3g",
        "colab_type": "code",
        "colab": {}
      },
      "cell_type": "code",
      "source": [
        "acc = history.history['acc']\n",
        "val_acc = history.history['val_acc']\n",
        "loss = history.history['loss']\n",
        "val_loss = history.history['val_loss']"
      ],
      "execution_count": 0,
      "outputs": []
    },
    {
      "metadata": {
        "id": "k26hp3PjYTj6",
        "colab_type": "code",
        "outputId": "03fda4be-6587-41c8-e10d-ec34feb9f9ae",
        "colab": {
          "base_uri": "https://localhost:8080/",
          "height": 735
        }
      },
      "cell_type": "code",
      "source": [
        "\n",
        "epochs = range(1,len(acc)+1)\n",
        "\n",
        "plt.plot(epochs, acc, 'b', label='Training acc')\n",
        "plt.plot(epochs, val_acc, 'r', label='Validation acc')\n",
        "plt.title('Accuracy History')\n",
        "plt.ylabel('accuracy')\n",
        "plt.xlabel('epoch')\n",
        "plt.legend(['training','validation'])\n",
        "\n",
        "plt.figure()\n",
        "\n",
        "plt.plot(epochs, loss, 'b', label='Training loss')\n",
        "plt.plot(epochs, val_loss, 'r', label='Validation loss')\n",
        "plt.title('Loss History')\n",
        "plt.ylabel('loss')\n",
        "plt.xlabel('epoch')\n",
        "plt.legend(['training','validation'])\n",
        "\n",
        "plt.show()"
      ],
      "execution_count": 0,
      "outputs": [
        {
          "output_type": "display_data",
          "data": {
            "image/png": "[encoded data removed]",
            "text/plain": [
              "<Figure size 576x396 with 1 Axes>"
            ]
          },
          "metadata": {
            "tags": []
          }
        },
        {
          "output_type": "display_data",
          "data": {
            "image/png": "[encoded data removed]",
            "text/plain": [
              "<Figure size 576x396 with 1 Axes>"
            ]
          },
          "metadata": {
            "tags": []
          }
        }
      ]
    },
    {
      "metadata": {
        "id": "N1moiH2YZPr8",
        "colab_type": "code",
        "colab": {}
      },
      "cell_type": "code",
      "source": [
        "model.save('/content/gdrive/My Drive/data/cats-dogs/cats-dogs.h5')"
      ],
      "execution_count": 0,
      "outputs": []
    },
    {
      "metadata": {
        "id": "mHG0mhJ2wbmr",
        "colab_type": "code",
        "colab": {}
      },
      "cell_type": "code",
      "source": [
        ""
      ],
      "execution_count": 0,
      "outputs": []
    }
  ]
}