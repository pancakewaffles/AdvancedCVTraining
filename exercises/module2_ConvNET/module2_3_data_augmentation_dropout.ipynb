{
  "nbformat": 4,
  "nbformat_minor": 0,
  "metadata": {
    "colab": {
      "name": "module3_3_data_augmentation_dropout.ipynb",
      "version": "0.3.2",
      "provenance": []
    },
    "kernelspec": {
      "name": "python3",
      "display_name": "Python 3"
    },
    "accelerator": "GPU"
  },
  "cells": [
    {
      "metadata": {
        "id": "6VAQ_F79BO4H",
        "colab_type": "text"
      },
      "cell_type": "markdown",
      "source": [
        "## Step 1 Data Processing"
      ]
    },
    {
      "metadata": {
        "id": "F0OYIWhR-iZY",
        "colab_type": "code",
        "outputId": "0ee66337-14a3-49dd-d896-ad22e8da7e5e",
        "colab": {
          "base_uri": "https://localhost:8080/",
          "height": 34
        }
      },
      "cell_type": "code",
      "source": [
        "from google.colab import drive\n",
        "drive.mount('/content/gdrive')"
      ],
      "execution_count": 61,
      "outputs": [
        {
          "output_type": "stream",
          "text": [
            "Drive already mounted at /content/gdrive; to attempt to forcibly remount, call drive.mount(\"/content/gdrive\", force_remount=True).\n"
          ],
          "name": "stdout"
        }
      ]
    },
    {
      "metadata": {
        "id": "C0hv9jn0-rDP",
        "colab_type": "code",
        "outputId": "6b041992-711d-4199-e882-30f3d2f139b0",
        "colab": {
          "base_uri": "https://localhost:8080/",
          "height": 34
        }
      },
      "cell_type": "code",
      "source": [
        "ls '/content/gdrive/My Drive/data/cats-dogs'"
      ],
      "execution_count": 62,
      "outputs": [
        {
          "output_type": "stream",
          "text": [
            "\u001b[0m\u001b[01;34mtest\u001b[0m/  \u001b[01;34mtrain\u001b[0m/  \u001b[01;34mvalidation\u001b[0m/\n"
          ],
          "name": "stdout"
        }
      ]
    },
    {
      "metadata": {
        "id": "9ci7mnYmAEvR",
        "colab_type": "code",
        "colab": {}
      },
      "cell_type": "code",
      "source": [
        "train_dir = '/content/gdrive/My Drive/data/cats-dogs/train/'\n",
        "test_dir = '/content/gdrive/My Drive/data/cats-dogs/test/'\n",
        "validation_dir = '/content/gdrive/My Drive/data/cats-dogs/validation/'"
      ],
      "execution_count": 0,
      "outputs": []
    },
    {
      "metadata": {
        "id": "r8ex2IbV-8fm",
        "colab_type": "code",
        "colab": {}
      },
      "cell_type": "code",
      "source": [
        "from keras.models import Sequential\n",
        "from keras.layers import Conv2D, MaxPooling2D, Dense, Flatten, Dropout\n",
        "from keras.preprocessing.image import ImageDataGenerator"
      ],
      "execution_count": 0,
      "outputs": []
    },
    {
      "metadata": {
        "id": "HcLMyYpIBSV4",
        "colab_type": "text"
      },
      "cell_type": "markdown",
      "source": [
        "## Step 2 Model"
      ]
    },
    {
      "metadata": {
        "id": "9BYyJnbxAl6C",
        "colab_type": "code",
        "colab": {}
      },
      "cell_type": "code",
      "source": [
        "model = Sequential()\n",
        "model.add(Conv2D(32, (3, 3), activation='relu',\n",
        "                        input_shape=(150, 150, 3)))\n",
        "model.add(MaxPooling2D((2, 2)))\n",
        "model.add(Conv2D(64, (3, 3), activation='relu'))\n",
        "model.add(MaxPooling2D((2, 2)))\n",
        "model.add(Conv2D(128, (3, 3), activation='relu'))\n",
        "model.add(MaxPooling2D((2, 2)))\n",
        "model.add(Conv2D(128, (3, 3), activation='relu'))\n",
        "model.add(MaxPooling2D((2, 2)))\n",
        "model.add(Flatten())\n",
        "model.add(Dropout(0.5))\n",
        "model.add(Dense(512, activation='relu'))\n",
        "model.add(Dense(1, activation='sigmoid'))"
      ],
      "execution_count": 0,
      "outputs": []
    },
    {
      "metadata": {
        "id": "6eO44_NGBYi2",
        "colab_type": "code",
        "outputId": "9fe25e9a-37b1-4c43-9719-c2d48051e189",
        "colab": {
          "base_uri": "https://localhost:8080/",
          "height": 442
        }
      },
      "cell_type": "code",
      "source": [
        "model.summary()"
      ],
      "execution_count": 0,
      "outputs": [
        {
          "output_type": "stream",
          "text": [
            "_________________________________________________________________\n",
            "Layer (type)                 Output Shape              Param #   \n",
            "=================================================================\n",
            "conv2d_7 (Conv2D)            (None, 150, 150, 16)      448       \n",
            "_________________________________________________________________\n",
            "max_pooling2d_7 (MaxPooling2 (None, 75, 75, 16)        0         \n",
            "_________________________________________________________________\n",
            "dropout_3 (Dropout)          (None, 75, 75, 16)        0         \n",
            "_________________________________________________________________\n",
            "conv2d_8 (Conv2D)            (None, 75, 75, 32)        4640      \n",
            "_________________________________________________________________\n",
            "max_pooling2d_8 (MaxPooling2 (None, 37, 37, 32)        0         \n",
            "_________________________________________________________________\n",
            "dropout_4 (Dropout)          (None, 37, 37, 32)        0         \n",
            "_________________________________________________________________\n",
            "flatten_4 (Flatten)          (None, 43808)             0         \n",
            "_________________________________________________________________\n",
            "dense_7 (Dense)              (None, 128)               5607552   \n",
            "_________________________________________________________________\n",
            "dense_8 (Dense)              (None, 1)                 129       \n",
            "=================================================================\n",
            "Total params: 5,612,769\n",
            "Trainable params: 5,612,769\n",
            "Non-trainable params: 0\n",
            "_________________________________________________________________\n"
          ],
          "name": "stdout"
        }
      ]
    },
    {
      "metadata": {
        "id": "hFVBP2tiHySM",
        "colab_type": "text"
      },
      "cell_type": "markdown",
      "source": [
        "## Step 3 Compile the Model"
      ]
    },
    {
      "metadata": {
        "id": "-FY5tnvTEnmY",
        "colab_type": "code",
        "colab": {}
      },
      "cell_type": "code",
      "source": [
        "from keras import optimizers\n",
        "\n",
        "model.compile(loss='binary_crossentropy',optimizer=optimizers.RMSprop(lr=1e-4),metrics=['acc'])"
      ],
      "execution_count": 0,
      "outputs": []
    },
    {
      "metadata": {
        "id": "VNzaZe4xIBYe",
        "colab_type": "text"
      },
      "cell_type": "markdown",
      "source": [
        "## Step 4 Train the Model"
      ]
    },
    {
      "metadata": {
        "id": "LUQwEgVSH-nz",
        "colab_type": "code",
        "colab": {}
      },
      "cell_type": "code",
      "source": [
        "train_datagen = ImageDataGenerator(\n",
        "    rescale=1./255,\n",
        "    rotation_range=40,\n",
        "    width_shift_range=0.2,\n",
        "    height_shift_range=0.2,\n",
        "    shear_range=0.2,\n",
        "    zoom_range=0.2,\n",
        "    horizontal_flip=True)\n"
      ],
      "execution_count": 0,
      "outputs": []
    },
    {
      "metadata": {
        "id": "tfwMIl-QliaM",
        "colab_type": "code",
        "colab": {}
      },
      "cell_type": "code",
      "source": [
        "test_datagen = ImageDataGenerator(rescale=1./255)"
      ],
      "execution_count": 0,
      "outputs": []
    },
    {
      "metadata": {
        "id": "O-FXCfAKID22",
        "colab_type": "code",
        "outputId": "e49999ff-e0c7-4992-ac43-d1f7e4010e13",
        "colab": {
          "base_uri": "https://localhost:8080/",
          "height": 34
        }
      },
      "cell_type": "code",
      "source": [
        "train_generator = train_datagen.flow_from_directory(train_dir,\n",
        "                                     target_size=(150,150),\n",
        "                                     batch_size=20,\n",
        "                                     class_mode='binary')"
      ],
      "execution_count": 77,
      "outputs": [
        {
          "output_type": "stream",
          "text": [
            "Found 1000 images belonging to 2 classes.\n"
          ],
          "name": "stdout"
        }
      ]
    },
    {
      "metadata": {
        "id": "6HnvJxEyJVhn",
        "colab_type": "code",
        "outputId": "ed0bc4b3-ae99-4460-929c-4cce7df4aaa2",
        "colab": {
          "base_uri": "https://localhost:8080/",
          "height": 34
        }
      },
      "cell_type": "code",
      "source": [
        "validation_generator = test_datagen.flow_from_directory(validation_dir,\n",
        "                                     target_size=(150,150),\n",
        "                                     batch_size=20,\n",
        "                                     class_mode='binary')"
      ],
      "execution_count": 78,
      "outputs": [
        {
          "output_type": "stream",
          "text": [
            "Found 1000 images belonging to 2 classes.\n"
          ],
          "name": "stdout"
        }
      ]
    },
    {
      "metadata": {
        "id": "XXJcjYVbKLJP",
        "colab_type": "code",
        "outputId": "0641e627-0892-4998-adca-e6864f547acb",
        "colab": {
          "base_uri": "https://localhost:8080/",
          "height": 357
        }
      },
      "cell_type": "code",
      "source": [
        "history = model.fit_generator(\n",
        "      train_generator,\n",
        "      steps_per_epoch=100,\n",
        "      epochs=10,\n",
        "      validation_data=validation_generator,\n",
        "      validation_steps=50)"
      ],
      "execution_count": 79,
      "outputs": [
        {
          "output_type": "stream",
          "text": [
            "Epoch 1/10\n",
            "100/100 [==============================] - 29s 288ms/step - loss: 0.6953 - acc: 0.5075 - val_loss: 0.6931 - val_acc: 0.5020\n",
            "Epoch 2/10\n",
            "100/100 [==============================] - 26s 259ms/step - loss: 0.6835 - acc: 0.5515 - val_loss: 0.7645 - val_acc: 0.5000\n",
            "Epoch 3/10\n",
            "100/100 [==============================] - 26s 261ms/step - loss: 0.6733 - acc: 0.5815 - val_loss: 0.6634 - val_acc: 0.5980\n",
            "Epoch 4/10\n",
            "100/100 [==============================] - 26s 259ms/step - loss: 0.6602 - acc: 0.6065 - val_loss: 0.6549 - val_acc: 0.6180\n",
            "Epoch 5/10\n",
            "100/100 [==============================] - 26s 262ms/step - loss: 0.6428 - acc: 0.6350 - val_loss: 0.6510 - val_acc: 0.6180\n",
            "Epoch 6/10\n",
            "100/100 [==============================] - 26s 257ms/step - loss: 0.6311 - acc: 0.6410 - val_loss: 0.6392 - val_acc: 0.6400\n",
            "Epoch 7/10\n",
            "100/100 [==============================] - 26s 261ms/step - loss: 0.6216 - acc: 0.6625 - val_loss: 0.6212 - val_acc: 0.6480\n",
            "Epoch 8/10\n",
            "100/100 [==============================] - 26s 257ms/step - loss: 0.5940 - acc: 0.6795 - val_loss: 0.6172 - val_acc: 0.6450\n",
            "Epoch 9/10\n",
            "100/100 [==============================] - 26s 257ms/step - loss: 0.5831 - acc: 0.6985 - val_loss: 0.5803 - val_acc: 0.6980\n",
            "Epoch 10/10\n",
            "100/100 [==============================] - 26s 258ms/step - loss: 0.5766 - acc: 0.6935 - val_loss: 0.5990 - val_acc: 0.6790\n"
          ],
          "name": "stdout"
        }
      ]
    },
    {
      "metadata": {
        "id": "yZrUdOeRYS3g",
        "colab_type": "code",
        "colab": {}
      },
      "cell_type": "code",
      "source": [
        "acc = history.history['acc']\n",
        "val_acc = history.history['val_acc']\n",
        "loss = history.history['loss']\n",
        "val_loss = history.history['val_loss']"
      ],
      "execution_count": 0,
      "outputs": []
    },
    {
      "metadata": {
        "id": "k26hp3PjYTj6",
        "colab_type": "code",
        "outputId": "3ce880a8-3c13-4264-a63f-83bba1059973",
        "colab": {
          "base_uri": "https://localhost:8080/",
          "height": 735
        }
      },
      "cell_type": "code",
      "source": [
        "import matplotlib.pyplot as plt\n",
        "epochs = range(1,len(acc)+1)\n",
        "\n",
        "plt.plot(epochs, acc, 'b', label='Training acc')\n",
        "plt.plot(epochs, val_acc, 'r', label='Validation acc')\n",
        "plt.title('Accuracy History')\n",
        "plt.ylabel('accuracy')\n",
        "plt.xlabel('epoch')\n",
        "plt.legend(['training','validation'])\n",
        "\n",
        "plt.figure()\n",
        "\n",
        "plt.plot(epochs, loss, 'b', label='Training loss')\n",
        "plt.plot(epochs, val_loss, 'r', label='Validation loss')\n",
        "plt.title('Loss History')\n",
        "plt.ylabel('loss')\n",
        "plt.xlabel('epoch')\n",
        "plt.legend(['training','validation'])\n",
        "\n",
        "plt.show()"
      ],
      "execution_count": 81,
      "outputs": [
        {
          "output_type": "display_data",
          "data": {
            "image/png": "[encoded data removed]",
            "text/plain": [
              "<Figure size 576x396 with 1 Axes>"
            ]
          },
          "metadata": {
            "tags": []
          }
        },
        {
          "output_type": "display_data",
          "data": {
            "image/png": "[encoded data removed]",
            "text/plain": [
              "<Figure size 576x396 with 1 Axes>"
            ]
          },
          "metadata": {
            "tags": []
          }
        }
      ]
    },
    {
      "metadata": {
        "id": "N1moiH2YZPr8",
        "colab_type": "code",
        "colab": {}
      },
      "cell_type": "code",
      "source": [
        "|"
      ],
      "execution_count": 0,
      "outputs": []
    }
  ]
}