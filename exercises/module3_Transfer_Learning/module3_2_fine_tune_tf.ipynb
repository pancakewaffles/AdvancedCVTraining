{
  "nbformat": 4,
  "nbformat_minor": 0,
  "metadata": {
    "colab": {
      "name": "module4_2_fine_tune_tf.ipynb",
      "version": "0.3.2",
      "provenance": []
    },
    "kernelspec": {
      "name": "python3",
      "display_name": "Python 3"
    },
    "accelerator": "GPU"
  },
  "cells": [
    {
      "metadata": {
        "id": "BDeziWjER7Vo",
        "colab_type": "code",
        "colab": {
          "base_uri": "https://localhost:8080/",
          "height": 34
        },
        "outputId": "8881038b-9f2b-4973-b9ad-123c65b2ea7d"
      },
      "cell_type": "code",
      "source": [
        "import numpy as np\n",
        "from keras.preprocessing.image import ImageDataGenerator\n",
        "from keras.applications.vgg16 import VGG16\n",
        "from keras.models import Sequential\n",
        "from keras.layers import Dense, Flatten, Dropout"
      ],
      "execution_count": 1,
      "outputs": [
        {
          "output_type": "stream",
          "text": [
            "Using TensorFlow backend.\n"
          ],
          "name": "stderr"
        }
      ]
    },
    {
      "metadata": {
        "id": "CWFLAmruxYQp",
        "colab_type": "code",
        "colab": {
          "base_uri": "https://localhost:8080/",
          "height": 34
        },
        "outputId": "d4b88cef-3b01-4ffe-8753-47b2645c1365"
      },
      "cell_type": "code",
      "source": [
        "from google.colab import drive\n",
        "drive.mount('/content/gdrive')"
      ],
      "execution_count": 2,
      "outputs": [
        {
          "output_type": "stream",
          "text": [
            "Drive already mounted at /content/gdrive; to attempt to forcibly remount, call drive.mount(\"/content/gdrive\", force_remount=True).\n"
          ],
          "name": "stdout"
        }
      ]
    },
    {
      "metadata": {
        "id": "mNofTj8DSX9v",
        "colab_type": "code",
        "colab": {}
      },
      "cell_type": "code",
      "source": [
        "train_dir = '/content/gdrive/My Drive/data/cats-dogs/train/'\n",
        "test_dir = '/content/gdrive/My Drive/data/cats-dogs/test/'\n",
        "validation_dir = '/content/gdrive/My Drive/data/cats-dogs/validation/'"
      ],
      "execution_count": 0,
      "outputs": []
    },
    {
      "metadata": {
        "id": "bUj05AK6yeOy",
        "colab_type": "code",
        "colab": {}
      },
      "cell_type": "code",
      "source": [
        "ls '/content/gdrive/My Drive/data/cats-dogs'"
      ],
      "execution_count": 0,
      "outputs": []
    },
    {
      "metadata": {
        "id": "0Gi4oRb4SoML",
        "colab_type": "code",
        "colab": {}
      },
      "cell_type": "code",
      "source": [
        "base_model = VGG16(weights='imagenet',include_top=False,input_shape=(150,150,3))"
      ],
      "execution_count": 0,
      "outputs": []
    },
    {
      "metadata": {
        "id": "OHMtxFwsSvYk",
        "colab_type": "code",
        "colab": {}
      },
      "cell_type": "code",
      "source": [
        "model = Sequential()\n",
        "model.add(base_model)\n",
        "model.add(Flatten())\n",
        "\n",
        "model.add(Dense(1024,activation='relu'))\n",
        "model.add(Dense(1,activation='sigmoid'))"
      ],
      "execution_count": 0,
      "outputs": []
    },
    {
      "metadata": {
        "id": "IhCCUx-avPpW",
        "colab_type": "text"
      },
      "cell_type": "markdown",
      "source": [
        ""
      ]
    },
    {
      "metadata": {
        "id": "WToH3HBQTg57",
        "colab_type": "code",
        "colab": {}
      },
      "cell_type": "code",
      "source": [
        "model.summary()"
      ],
      "execution_count": 0,
      "outputs": []
    },
    {
      "metadata": {
        "id": "MABDwYemTFrh",
        "colab_type": "code",
        "colab": {}
      },
      "cell_type": "code",
      "source": [
        "train_datagen = ImageDataGenerator(rescale=1./255)\n",
        "\n",
        "test_datagen = ImageDataGenerator(rescale=1./255)"
      ],
      "execution_count": 0,
      "outputs": []
    },
    {
      "metadata": {
        "id": "Fnz1YeoHTcUB",
        "colab_type": "code",
        "colab": {
          "base_uri": "https://localhost:8080/",
          "height": 51
        },
        "outputId": "af0a6871-dc58-458b-fb25-00b28c9afd6a"
      },
      "cell_type": "code",
      "source": [
        "train_generator = train_datagen.flow_from_directory(train_dir, target_size=(150,150),\n",
        "                                                    batch_size = 20,class_mode='binary')\n",
        "validation_generator = test_datagen.flow_from_directory(validation_dir, target_size=(150,150),\n",
        "                                                    batch_size = 20,class_mode='binary')"
      ],
      "execution_count": 16,
      "outputs": [
        {
          "output_type": "stream",
          "text": [
            "Found 1000 images belonging to 2 classes.\n",
            "Found 1000 images belonging to 2 classes.\n"
          ],
          "name": "stdout"
        }
      ]
    },
    {
      "metadata": {
        "id": "gBGMyWcy6QyR",
        "colab_type": "code",
        "colab": {}
      },
      "cell_type": "code",
      "source": [
        "base_model.summary()"
      ],
      "execution_count": 0,
      "outputs": []
    },
    {
      "metadata": {
        "id": "_JpCXvN2UC71",
        "colab_type": "code",
        "colab": {}
      },
      "cell_type": "code",
      "source": [
        "for layer in base_model.layers:\n",
        "  layer.trainable = False"
      ],
      "execution_count": 0,
      "outputs": []
    },
    {
      "metadata": {
        "id": "t8zSlI0F6v_1",
        "colab_type": "code",
        "colab": {}
      },
      "cell_type": "code",
      "source": [
        "for layer in base_model.layers:\n",
        "  print(layer.name,layer.trainable)"
      ],
      "execution_count": 0,
      "outputs": []
    },
    {
      "metadata": {
        "id": "lD18G_MJUlS2",
        "colab_type": "code",
        "colab": {}
      },
      "cell_type": "code",
      "source": [
        "# for layer in base_model.layers:\n",
        "#   if layer.name == 'block5_conv1':\n",
        "#     layer.trainable = True\n",
        "#   if layer.name == 'block5_conv2':\n",
        "#     layer.trainable = True\n",
        "#   if layer.name == 'block5_conv3':\n",
        "#    layer.trainable = True\n",
        "\n",
        "    \n",
        "for layer in base_model.layers[-4:]:\n",
        "  layer.trainable = True"
      ],
      "execution_count": 0,
      "outputs": []
    },
    {
      "metadata": {
        "id": "aycXUL9m8HZV",
        "colab_type": "code",
        "colab": {
          "base_uri": "https://localhost:8080/",
          "height": 340
        },
        "outputId": "ecc270e5-40fb-4987-f9a1-9990b93502e8"
      },
      "cell_type": "code",
      "source": [
        "for layer in base_model.layers:\n",
        "  print(layer.name,layer.trainable)"
      ],
      "execution_count": 19,
      "outputs": [
        {
          "output_type": "stream",
          "text": [
            "input_2 False\n",
            "block1_conv1 False\n",
            "block1_conv2 False\n",
            "block1_pool False\n",
            "block2_conv1 False\n",
            "block2_conv2 False\n",
            "block2_pool False\n",
            "block3_conv1 False\n",
            "block3_conv2 False\n",
            "block3_conv3 False\n",
            "block3_pool False\n",
            "block4_conv1 False\n",
            "block4_conv2 False\n",
            "block4_conv3 False\n",
            "block4_pool False\n",
            "block5_conv1 True\n",
            "block5_conv2 True\n",
            "block5_conv3 True\n",
            "block5_pool True\n"
          ],
          "name": "stdout"
        }
      ]
    },
    {
      "metadata": {
        "id": "R69yNA8kUzbA",
        "colab_type": "code",
        "colab": {}
      },
      "cell_type": "code",
      "source": [
        "from keras import optimizers\n",
        "\n",
        "model.compile(loss='binary_crossentropy',optimizer=optimizers.RMSprop(lr=1e-5),metrics=['acc'])\n"
      ],
      "execution_count": 0,
      "outputs": []
    },
    {
      "metadata": {
        "id": "5luDlPqZWAy9",
        "colab_type": "code",
        "colab": {
          "base_uri": "https://localhost:8080/",
          "height": 357
        },
        "outputId": "8d6d52d7-917e-460e-d1ed-14dfc763de06"
      },
      "cell_type": "code",
      "source": [
        "history = model.fit_generator(\n",
        "      train_generator,\n",
        "      steps_per_epoch=100,\n",
        "      epochs=10,\n",
        "      validation_data=validation_generator,\n",
        "      validation_steps=50)"
      ],
      "execution_count": 21,
      "outputs": [
        {
          "output_type": "stream",
          "text": [
            "Epoch 1/10\n",
            "100/100 [==============================] - 26s 257ms/step - loss: 0.3549 - acc: 0.8475 - val_loss: 0.3093 - val_acc: 0.8660\n",
            "Epoch 2/10\n",
            "100/100 [==============================] - 23s 226ms/step - loss: 0.1251 - acc: 0.9580 - val_loss: 0.2981 - val_acc: 0.8790\n",
            "Epoch 3/10\n",
            "100/100 [==============================] - 23s 227ms/step - loss: 0.0487 - acc: 0.9910 - val_loss: 0.2324 - val_acc: 0.9160\n",
            "Epoch 4/10\n",
            "100/100 [==============================] - 23s 227ms/step - loss: 0.0167 - acc: 0.9985 - val_loss: 0.3218 - val_acc: 0.8930\n",
            "Epoch 5/10\n",
            "100/100 [==============================] - 23s 227ms/step - loss: 0.0055 - acc: 1.0000 - val_loss: 0.4150 - val_acc: 0.8900\n",
            "Epoch 6/10\n",
            "100/100 [==============================] - 23s 227ms/step - loss: 0.0025 - acc: 0.9995 - val_loss: 0.3137 - val_acc: 0.9180\n",
            "Epoch 7/10\n",
            "100/100 [==============================] - 23s 226ms/step - loss: 0.0026 - acc: 0.9995 - val_loss: 0.3406 - val_acc: 0.9150\n",
            "Epoch 8/10\n",
            "100/100 [==============================] - 23s 226ms/step - loss: 5.8114e-04 - acc: 1.0000 - val_loss: 0.3737 - val_acc: 0.9150\n",
            "Epoch 9/10\n",
            "100/100 [==============================] - 23s 227ms/step - loss: 2.6242e-04 - acc: 1.0000 - val_loss: 0.3841 - val_acc: 0.9140\n",
            "Epoch 10/10\n",
            "100/100 [==============================] - 23s 227ms/step - loss: 4.6942e-04 - acc: 1.0000 - val_loss: 0.4922 - val_acc: 0.9050\n"
          ],
          "name": "stdout"
        }
      ]
    },
    {
      "metadata": {
        "id": "ac7_5wWIWRKS",
        "colab_type": "code",
        "colab": {}
      },
      "cell_type": "code",
      "source": [
        "from keras.preprocessing import image\n",
        "\n",
        "img = image.load_img('/content/gdrive/My Drive/data/cats-dogs/test/dogs/dog.1003.jpg', target_size=(150,150))"
      ],
      "execution_count": 0,
      "outputs": []
    },
    {
      "metadata": {
        "id": "0nSg10QxXfNE",
        "colab_type": "code",
        "colab": {
          "base_uri": "https://localhost:8080/",
          "height": 34
        },
        "outputId": "da534651-2044-4a98-d873-e426c82b8149"
      },
      "cell_type": "code",
      "source": [
        "x = image.img_to_array(img)\n",
        "x = np.expand_dims(x,axis=0)\n",
        "model.predict(x)"
      ],
      "execution_count": 25,
      "outputs": [
        {
          "output_type": "execute_result",
          "data": {
            "text/plain": [
              "array([[1.]], dtype=float32)"
            ]
          },
          "metadata": {
            "tags": []
          },
          "execution_count": 25
        }
      ]
    },
    {
      "metadata": {
        "id": "WGue4YqOXpRM",
        "colab_type": "code",
        "colab": {}
      },
      "cell_type": "code",
      "source": [
        ""
      ],
      "execution_count": 0,
      "outputs": []
    }
  ]
}